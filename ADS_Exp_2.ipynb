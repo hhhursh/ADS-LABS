{
  "nbformat": 4,
  "nbformat_minor": 0,
  "metadata": {
    "colab": {
      "provenance": [],
      "include_colab_link": true
    },
    "kernelspec": {
      "name": "python3",
      "display_name": "Python 3"
    },
    "language_info": {
      "name": "python"
    }
  },
  "cells": [
    {
      "cell_type": "markdown",
      "metadata": {
        "id": "view-in-github",
        "colab_type": "text"
      },
      "source": [
        "<a href=\"https://colab.research.google.com/github/hhhursh/ADS-LABS/blob/main/ADS_Exp_2.ipynb\" target=\"_parent\"><img src=\"https://colab.research.google.com/assets/colab-badge.svg\" alt=\"Open In Colab\"/></a>"
      ]
    },
    {
      "cell_type": "code",
      "execution_count": null,
      "metadata": {
        "id": "4meAdzwqug40"
      },
      "outputs": [],
      "source": [
        "import numpy as np\n",
        "import pandas as pd"
      ]
    },
    {
      "cell_type": "markdown",
      "source": [
        "#Drop\n"
      ],
      "metadata": {
        "id": "U9QZZ2hUyi9F"
      }
    },
    {
      "cell_type": "code",
      "source": [
        "drop = pd.read_csv('drop.csv')"
      ],
      "metadata": {
        "id": "5Ej-Yng_yije"
      },
      "execution_count": null,
      "outputs": []
    },
    {
      "cell_type": "code",
      "source": [
        "drop.size, drop.isna().sum()"
      ],
      "metadata": {
        "colab": {
          "base_uri": "https://localhost:8080/"
        },
        "id": "56ByKYrPzapb",
        "outputId": "d862318e-6b0b-4b8b-d023-9161d3b0e106"
      },
      "execution_count": null,
      "outputs": [
        {
          "output_type": "execute_result",
          "data": {
            "text/plain": [
              "(419056,\n",
              " OwnerID             0\n",
              " PostType            0\n",
              " PostDate            0\n",
              " Height              0\n",
              " Width               0\n",
              " PostItemType        0\n",
              " LikeCount           0\n",
              " ViewCount           0\n",
              " Tags            36553\n",
              " Mentions        20661\n",
              " Location        37052\n",
              " dtype: int64)"
            ]
          },
          "metadata": {},
          "execution_count": 37
        }
      ]
    },
    {
      "cell_type": "code",
      "source": [
        "drop.drop(['Tags', 'Mentions', 'Location'], axis=1, inplace=True)\n",
        "drop.isna().sum()"
      ],
      "metadata": {
        "colab": {
          "base_uri": "https://localhost:8080/"
        },
        "id": "q5MufTwDzrDV",
        "outputId": "072cc810-fd39-42b5-f470-c6f252093727"
      },
      "execution_count": null,
      "outputs": [
        {
          "output_type": "execute_result",
          "data": {
            "text/plain": [
              "OwnerID         0\n",
              "PostType        0\n",
              "PostDate        0\n",
              "Height          0\n",
              "Width           0\n",
              "PostItemType    0\n",
              "LikeCount       0\n",
              "ViewCount       0\n",
              "dtype: int64"
            ]
          },
          "metadata": {},
          "execution_count": 38
        }
      ]
    },
    {
      "cell_type": "markdown",
      "source": [
        "#Mean"
      ],
      "metadata": {
        "id": "FB3cWicx01Tt"
      }
    },
    {
      "cell_type": "code",
      "source": [
        "mean = pd.read_csv('mean.csv')"
      ],
      "metadata": {
        "id": "Q1GJOpYS0_As"
      },
      "execution_count": null,
      "outputs": []
    },
    {
      "cell_type": "code",
      "source": [
        "mean.dtypes"
      ],
      "metadata": {
        "colab": {
          "base_uri": "https://localhost:8080/"
        },
        "id": "TZ5cBkzC2L_s",
        "outputId": "bed641b4-2cd3-4db5-97e0-04b0dee82951"
      },
      "execution_count": null,
      "outputs": [
        {
          "output_type": "execute_result",
          "data": {
            "text/plain": [
              "MOVIES       object\n",
              "GENRE        object\n",
              "ONE-LINE     object\n",
              "STARS        object\n",
              "VOTES        object\n",
              "RunTime     float64\n",
              "Gross        object\n",
              "dtype: object"
            ]
          },
          "metadata": {},
          "execution_count": 59
        }
      ]
    },
    {
      "cell_type": "code",
      "source": [
        "mean.isna().sum()"
      ],
      "metadata": {
        "colab": {
          "base_uri": "https://localhost:8080/"
        },
        "id": "mTMRWdZK1J_s",
        "outputId": "278b3437-0ed8-47f6-f68d-1fbbe27364f3"
      },
      "execution_count": null,
      "outputs": [
        {
          "output_type": "execute_result",
          "data": {
            "text/plain": [
              "MOVIES         0\n",
              "GENRE         80\n",
              "ONE-LINE       0\n",
              "STARS          0\n",
              "VOTES       1820\n",
              "RunTime     2958\n",
              "Gross       9537\n",
              "dtype: int64"
            ]
          },
          "metadata": {},
          "execution_count": 60
        }
      ]
    },
    {
      "cell_type": "code",
      "source": [
        "\n",
        "\n",
        "\n",
        "meanVals = mean.mean()\n",
        "print('Mean Befor Replacement: ', mean.RunTime.mean())\n",
        "print('Std Dev Befor Replacement: ', mean.RunTime.std())\n",
        "\n",
        "mean.fillna(meanVals, inplace=True)\n",
        "print('Mean After Replacement: ', mean.RunTime.mean())\n",
        "print('Std Dev After Replacement: ', mean.RunTime.std())\n",
        "mean.isna().sum()"
      ],
      "metadata": {
        "colab": {
          "base_uri": "https://localhost:8080/"
        },
        "id": "EW0_KY4M1uys",
        "outputId": "68a5a340-4c9b-43ef-d36d-d2cf3070853a"
      },
      "execution_count": null,
      "outputs": [
        {
          "output_type": "stream",
          "name": "stdout",
          "text": [
            "Mean Befor Replacement:  76.69010083794916\n",
            "Std Dev Befor Replacement:  599.9501250340841\n",
            "Mean After Replacement:  76.69010083794915\n",
            "Std Dev After Replacement:  590.8567458692513\n"
          ]
        },
        {
          "output_type": "stream",
          "name": "stderr",
          "text": [
            "<ipython-input-61-228538afaf75>:1: FutureWarning: The default value of numeric_only in DataFrame.mean is deprecated. In a future version, it will default to False. In addition, specifying 'numeric_only=None' is deprecated. Select only valid columns or specify the value of numeric_only to silence this warning.\n",
            "  meanVals = mean.mean()\n"
          ]
        },
        {
          "output_type": "execute_result",
          "data": {
            "text/plain": [
              "MOVIES         0\n",
              "GENRE         80\n",
              "ONE-LINE       0\n",
              "STARS          0\n",
              "VOTES       1820\n",
              "RunTime        0\n",
              "Gross       9537\n",
              "dtype: int64"
            ]
          },
          "metadata": {},
          "execution_count": 61
        }
      ]
    },
    {
      "cell_type": "markdown",
      "source": [
        "#Multiple"
      ],
      "metadata": {
        "id": "Rl1Nyzcf2vFM"
      }
    },
    {
      "cell_type": "code",
      "source": [
        "!pip install miceforest"
      ],
      "metadata": {
        "colab": {
          "base_uri": "https://localhost:8080/"
        },
        "id": "7Q2I3skE6zdz",
        "outputId": "fba0f89c-e99d-4bc6-d649-9ddb7f5a3c2f"
      },
      "execution_count": null,
      "outputs": [
        {
          "output_type": "stream",
          "name": "stdout",
          "text": [
            "Collecting miceforest\n",
            "  Downloading miceforest-5.7.0-py3-none-any.whl (58 kB)\n",
            "\u001b[2K     \u001b[90m━━━━━━━━━━━━━━━━━━━━━━━━━━━━━━━━━━━━━━━━\u001b[0m \u001b[32m58.2/58.2 kB\u001b[0m \u001b[31m1.1 MB/s\u001b[0m eta \u001b[36m0:00:00\u001b[0m\n",
            "\u001b[?25hRequirement already satisfied: lightgbm>=3.3.1 in /usr/local/lib/python3.10/dist-packages (from miceforest) (4.1.0)\n",
            "Requirement already satisfied: numpy in /usr/local/lib/python3.10/dist-packages (from miceforest) (1.23.5)\n",
            "Collecting blosc (from miceforest)\n",
            "  Downloading blosc-1.11.1-cp310-cp310-manylinux_2_17_x86_64.manylinux2014_x86_64.whl (2.5 MB)\n",
            "\u001b[2K     \u001b[90m━━━━━━━━━━━━━━━━━━━━━━━━━━━━━━━━━━━━━━━━\u001b[0m \u001b[32m2.5/2.5 MB\u001b[0m \u001b[31m15.6 MB/s\u001b[0m eta \u001b[36m0:00:00\u001b[0m\n",
            "\u001b[?25hCollecting dill (from miceforest)\n",
            "  Downloading dill-0.3.8-py3-none-any.whl (116 kB)\n",
            "\u001b[2K     \u001b[90m━━━━━━━━━━━━━━━━━━━━━━━━━━━━━━━━━━━━━━━━\u001b[0m \u001b[32m116.3/116.3 kB\u001b[0m \u001b[31m14.6 MB/s\u001b[0m eta \u001b[36m0:00:00\u001b[0m\n",
            "\u001b[?25hRequirement already satisfied: scipy in /usr/local/lib/python3.10/dist-packages (from lightgbm>=3.3.1->miceforest) (1.11.4)\n",
            "Installing collected packages: dill, blosc, miceforest\n",
            "Successfully installed blosc-1.11.1 dill-0.3.8 miceforest-5.7.0\n"
          ]
        }
      ]
    },
    {
      "cell_type": "code",
      "source": [
        "multiple  = pd.read_csv('multiple.csv', nrows=100)"
      ],
      "metadata": {
        "id": "XhSocn_f2ySb"
      },
      "execution_count": null,
      "outputs": []
    },
    {
      "cell_type": "code",
      "source": [
        "multiple.isna().sum()"
      ],
      "metadata": {
        "colab": {
          "base_uri": "https://localhost:8080/"
        },
        "id": "gT9o0thy3CgE",
        "outputId": "e7806236-dbe9-4962-eb0e-1f2509e83141"
      },
      "execution_count": null,
      "outputs": [
        {
          "output_type": "execute_result",
          "data": {
            "text/plain": [
              "Call Failure               10\n",
              "Complaints                 10\n",
              "Subscription Length        10\n",
              "Charge Amount              10\n",
              "Seconds of Use             16\n",
              "Frequency of use           12\n",
              "Frequency of SMS           13\n",
              "Distinct Called Numbers    14\n",
              "Age Group                  21\n",
              "Tariff Plan                19\n",
              "Status                     14\n",
              "Age                        16\n",
              "Customer Value             13\n",
              "Churn                       0\n",
              "dtype: int64"
            ]
          },
          "metadata": {},
          "execution_count": 44
        }
      ]
    },
    {
      "cell_type": "code",
      "source": [
        "from miceforest import ImputationKernel\n",
        "\n",
        "mice_kernel = ImputationKernel(\n",
        "  data = multiple,\n",
        "  save_all_iterations = True,\n",
        "  random_state = 2023\n",
        ")\n",
        "mice_kernel.mice(2)\n",
        "mice_imputation = mice_kernel.complete_data()"
      ],
      "metadata": {
        "id": "uQ8fapQM3if0"
      },
      "execution_count": null,
      "outputs": []
    },
    {
      "cell_type": "code",
      "source": [
        "mice_imputation.isna().sum()"
      ],
      "metadata": {
        "colab": {
          "base_uri": "https://localhost:8080/"
        },
        "id": "r8g16evf7E_b",
        "outputId": "d73af5b8-2797-4158-cd71-e5d6cc47c9b6"
      },
      "execution_count": null,
      "outputs": [
        {
          "output_type": "execute_result",
          "data": {
            "text/plain": [
              "Call Failure               0\n",
              "Complaints                 0\n",
              "Subscription Length        0\n",
              "Charge Amount              0\n",
              "Seconds of Use             0\n",
              "Frequency of use           0\n",
              "Frequency of SMS           0\n",
              "Distinct Called Numbers    0\n",
              "Age Group                  0\n",
              "Tariff Plan                0\n",
              "Status                     0\n",
              "Age                        0\n",
              "Customer Value             0\n",
              "Churn                      0\n",
              "dtype: int64"
            ]
          },
          "metadata": {},
          "execution_count": 64
        }
      ]
    },
    {
      "cell_type": "markdown",
      "source": [
        "# KNN"
      ],
      "metadata": {
        "id": "yyqqIKJ07W9c"
      }
    },
    {
      "cell_type": "code",
      "source": [
        "knn = pd.read_csv('knn.csv')"
      ],
      "metadata": {
        "id": "u4hWhgik7Zvj"
      },
      "execution_count": null,
      "outputs": []
    },
    {
      "cell_type": "code",
      "source": [
        "knn.dtypes"
      ],
      "metadata": {
        "colab": {
          "base_uri": "https://localhost:8080/"
        },
        "id": "YFN91ChV9ABD",
        "outputId": "f7d1dbca-c5d6-4860-d079-2743c936c160"
      },
      "execution_count": null,
      "outputs": [
        {
          "output_type": "execute_result",
          "data": {
            "text/plain": [
              "GPA                  object\n",
              "Gender                int64\n",
              "breakfast             int64\n",
              "calories_chicken      int64\n",
              "calories_day        float64\n",
              "type_sports          object\n",
              "veggies_day          object\n",
              "vitamins              int64\n",
              "waffle_calories       int64\n",
              "weight               object\n",
              "Unnamed: 10          object\n",
              "dtype: object"
            ]
          },
          "metadata": {},
          "execution_count": 81
        }
      ]
    },
    {
      "cell_type": "code",
      "source": [
        "knn.drop(['GPA', 'type_sports', 'veggies_day', 'weight', 'Unnamed: 10'], axis=1, inplace=True)\n",
        "\n",
        "knn.dtypes"
      ],
      "metadata": {
        "colab": {
          "base_uri": "https://localhost:8080/"
        },
        "id": "Br-cp80v9umD",
        "outputId": "d88a72e4-c3f2-4d3a-b049-7d8e84334a4b"
      },
      "execution_count": null,
      "outputs": [
        {
          "output_type": "execute_result",
          "data": {
            "text/plain": [
              "Gender                int64\n",
              "breakfast             int64\n",
              "calories_chicken      int64\n",
              "calories_day        float64\n",
              "vitamins              int64\n",
              "waffle_calories       int64\n",
              "dtype: object"
            ]
          },
          "metadata": {},
          "execution_count": 82
        }
      ]
    },
    {
      "cell_type": "code",
      "source": [
        "knn.isna().sum()"
      ],
      "metadata": {
        "colab": {
          "base_uri": "https://localhost:8080/"
        },
        "id": "vEE0LIP28BuD",
        "outputId": "ef8fddef-f08e-4ba0-e3ea-656d7bf88651"
      },
      "execution_count": null,
      "outputs": [
        {
          "output_type": "execute_result",
          "data": {
            "text/plain": [
              "Gender               0\n",
              "breakfast            0\n",
              "calories_chicken     0\n",
              "calories_day        19\n",
              "vitamins             0\n",
              "waffle_calories      0\n",
              "dtype: int64"
            ]
          },
          "metadata": {},
          "execution_count": 83
        }
      ]
    },
    {
      "cell_type": "code",
      "source": [
        "from sklearn.impute import KNNImputer\n",
        "\n",
        "imputer = KNNImputer(n_neighbors=2)\n",
        "new_knn = imputer.fit_transform(knn)\n",
        "\n",
        "new_knn = pd.DataFrame(new_knn, columns=knn.columns)\n",
        "new_knn.isna().sum()"
      ],
      "metadata": {
        "colab": {
          "base_uri": "https://localhost:8080/"
        },
        "id": "fdwFaQTz8ok3",
        "outputId": "8d78acde-20fd-455d-a406-7a509b139d72"
      },
      "execution_count": null,
      "outputs": [
        {
          "output_type": "execute_result",
          "data": {
            "text/plain": [
              "Gender              0\n",
              "breakfast           0\n",
              "calories_chicken    0\n",
              "calories_day        0\n",
              "vitamins            0\n",
              "waffle_calories     0\n",
              "dtype: int64"
            ]
          },
          "metadata": {},
          "execution_count": 89
        }
      ]
    },
    {
      "cell_type": "code",
      "source": [
        "print('Mean Befor Replacement: ', knn.calories_day.mean())\n",
        "print('Mean After Replacement: ', new_knn.calories_day.mean())\n",
        "print('Std Dev Befor Replacement: ', knn.calories_day.std())\n",
        "print('Std Dev After Replacement: ', new_knn.calories_day.std())"
      ],
      "metadata": {
        "colab": {
          "base_uri": "https://localhost:8080/"
        },
        "id": "duk_Vfqw-soL",
        "outputId": "9da1338b-b70a-412e-e048-9de772736dc8"
      },
      "execution_count": null,
      "outputs": [
        {
          "output_type": "stream",
          "name": "stdout",
          "text": [
            "Mean Befor Replacement:  3.0283018867924527\n",
            "Mean After Replacement:  3.02\n",
            "Std Dev Befor Replacement:  0.6393083639268943\n",
            "Std Dev After Replacement:  0.6037517114114528\n"
          ]
        }
      ]
    },
    {
      "cell_type": "markdown",
      "source": [
        "# Next/Previous"
      ],
      "metadata": {
        "id": "Eo1A9yX1_GZz"
      }
    },
    {
      "cell_type": "code",
      "source": [
        "next_prev = pd.read_csv('next_prev.csv')"
      ],
      "metadata": {
        "id": "RXHs-fts_JXi"
      },
      "execution_count": null,
      "outputs": []
    },
    {
      "cell_type": "code",
      "source": [
        "next_prev.isna().sum()"
      ],
      "metadata": {
        "colab": {
          "base_uri": "https://localhost:8080/"
        },
        "id": "ZAkpNZEMCQei",
        "outputId": "5ef60bdd-dc38-4d75-c365-99bec9a6e386"
      },
      "execution_count": null,
      "outputs": [
        {
          "output_type": "execute_result",
          "data": {
            "text/plain": [
              "rank            0\n",
              "name            0\n",
              "channel_Info    5\n",
              "Category        7\n",
              "Posts           0\n",
              "Followers       0\n",
              "Avg. Likes      0\n",
              "Eng Rate        0\n",
              "dtype: int64"
            ]
          },
          "metadata": {},
          "execution_count": 94
        }
      ]
    },
    {
      "cell_type": "code",
      "source": [
        "def next_value_imputation(column):\n",
        "    return column.fillna(method='ffill')\n",
        "\n",
        "def previous_value_imputation(column):\n",
        "    return column.fillna(method='bfill')\n",
        "\n",
        "next_prev['channel_Info'] = next_value_imputation(next_prev['channel_Info'])\n",
        "next_prev['Category'] = previous_value_imputation(next_prev['Category'])\n",
        "\n",
        "next_prev.isna().sum()"
      ],
      "metadata": {
        "colab": {
          "base_uri": "https://localhost:8080/"
        },
        "id": "tSodkLhmCdS6",
        "outputId": "8b600f9d-e4e6-47e8-e2d8-d46f6315ed64"
      },
      "execution_count": null,
      "outputs": [
        {
          "output_type": "execute_result",
          "data": {
            "text/plain": [
              "rank            0\n",
              "name            0\n",
              "channel_Info    0\n",
              "Category        0\n",
              "Posts           0\n",
              "Followers       0\n",
              "Avg. Likes      0\n",
              "Eng Rate        0\n",
              "dtype: int64"
            ]
          },
          "metadata": {},
          "execution_count": 95
        }
      ]
    }
  ]
}